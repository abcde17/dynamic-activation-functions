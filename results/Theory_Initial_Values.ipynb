{
 "cells": [
  {
   "cell_type": "raw",
   "id": "9c6b941a-a911-43d3-b014-c769b8ef32b9",
   "metadata": {},
   "source": [
    "NOTEBOOK TO CREATE PLOTS ON MAPPING BETWEEN INITIAL VALUES FOR LEARNABLE PARAMETERS (Appendix C.3 in v3)"
   ]
  },
  {
   "cell_type": "code",
   "execution_count": 1,
   "id": "d60ef6a6-4a4e-4143-9e63-9b45ea9985f9",
   "metadata": {},
   "outputs": [],
   "source": [
    "import matplotlib.pyplot as plt\n",
    "import numpy as np\n",
    "from os.path import join"
   ]
  },
  {
   "cell_type": "code",
   "execution_count": 2,
   "id": "855e1912-6db6-437d-8c45-7b7998864541",
   "metadata": {},
   "outputs": [
    {
     "data": {
      "text/plain": [
       "(np.float64(0.0),\n",
       " np.float64(9.348077867343381e-14),\n",
       " np.float64(0.6931471805599453),\n",
       " np.float64(30.000000000000092))"
      ]
     },
     "execution_count": 2,
     "metadata": {},
     "output_type": "execute_result"
    }
   ],
   "source": [
    "def softplus(x):\n",
    "    return np.log(1 + np.exp(x))\n",
    "\n",
    "softplus(-10000), softplus(-30), softplus(0), softplus(30)"
   ]
  },
  {
   "cell_type": "code",
   "execution_count": 3,
   "id": "dbe66ba4-f550-47ad-b346-267009b28b25",
   "metadata": {},
   "outputs": [
    {
     "data": {
      "text/plain": [
       "(np.float64(-30.001020555434774),\n",
       " np.float64(0.0),\n",
       " np.float64(16.0),\n",
       " np.float64(300.0))"
      ]
     },
     "execution_count": 3,
     "metadata": {},
     "output_type": "execute_result"
    }
   ],
   "source": [
    "def softplus_inverse(x):\n",
    "    return np.log(np.exp(x) - 1)\n",
    "\n",
    "softplus_inverse(softplus(-30)), softplus_inverse(softplus(0)), softplus_inverse(softplus(16)), softplus_inverse(softplus(300))"
   ]
  },
  {
   "cell_type": "code",
   "execution_count": 4,
   "id": "858da2d2-f709-44c5-86cc-f1121f0ff8e2",
   "metadata": {},
   "outputs": [],
   "source": [
    "import scienceplots\n",
    "plt.style.use('science')\n",
    "\n",
    "# FONTS\n",
    "from font import SETTINGS\n",
    "for key in SETTINGS:\n",
    "    plt.rc(key, **SETTINGS[key])\n",
    "\n",
    "COLOR = plt.rcParams['axes.prop_cycle']\n",
    "COLOR = [v for elem in list(COLOR) for _, v in elem.items()]\n",
    "\n",
    "CLR = {\n",
    "    'alpha': COLOR[0],\n",
    "    'hatbeta': COLOR[1],\n",
    "    'hatalpha': COLOR[2],\n",
    "    'beta': COLOR[4],\n",
    "}"
   ]
  },
  {
   "cell_type": "code",
   "execution_count": 5,
   "id": "0e047f52-b7d7-4bae-8dd2-689457801c6a",
   "metadata": {},
   "outputs": [],
   "source": [
    "def alpha2beta(_alpha):\n",
    "    return [1/elem**2 for elem in _alpha]\n",
    "\n",
    "def beta2hatbeta(_beta):\n",
    "    return [softplus_inverse(elem) for elem in _beta]\n",
    "\n",
    "def alpha2hatbeta(_alpha):\n",
    "    return beta2hatbeta(alpha2beta(_alpha))\n",
    "\n",
    "\n",
    "def hatbeta2beta(_hatbeta):\n",
    "    return [softplus(elem) for elem in _hatbeta]\n",
    "\n",
    "def beta2alpha(_beta):\n",
    "    return [1/np.sqrt(elem) for elem in _beta]\n",
    "\n",
    "def hatbeta2alpha(_hatbeta):\n",
    "    return beta2alpha(hatbeta2beta(_hatbeta))\n",
    "\n",
    "\n",
    "def alpha2hatalpha(_alpha):\n",
    "    return [softplus_inverse(elem) for elem in _alpha]\n",
    "\n",
    "def hatalpha2alpha(_hatalpha):\n",
    "    return [softplus(elem) for elem in _hatalpha]\n",
    "\n",
    "\n",
    "def two_decimals(_list):\n",
    "    return [float(f'{elem:.2f}') for elem in _list]"
   ]
  },
  {
   "cell_type": "code",
   "execution_count": 6,
   "id": "9bd4f940-0d93-403c-aa95-482e08ca201c",
   "metadata": {},
   "outputs": [
    {
     "name": "stdout",
     "output_type": "stream",
     "text": [
      "STARTING FROM ALPHA\n",
      "alpha = [0.5, 0.69, 1, 2, 3]\n",
      "beta = [4.0, 2.100399075824407, 1.0, 0.25, 0.1111111111111111]\n",
      "hatbeta = [3.98, 1.97, 0.54, -1.26, -2.14]\n",
      "----\n",
      "STARTING FROM HATBETA\n",
      "hatbeta = [-2, -1, 1, 2, 4]\n",
      "beta = [0.13, 0.31, 1.31, 2.13, 4.02]\n",
      "alpha = [2.77, 1.8, 0.87, 0.69, 0.5]\n",
      "----\n",
      "STARTING FROM BETA\n",
      "beta = [0.11, 0.25, 1, 2, 4]\n",
      "hatbeta = [-2.15, -1.26, 0.54, 1.85, 3.98]\n",
      "alpha = [3.02, 2.0, 1.0, 0.71, 0.5]\n"
     ]
    }
   ],
   "source": [
    "alpha = [0.5, 0.69, 1, 2, 3]\n",
    "beta_from_alpha = alpha2beta(alpha)\n",
    "hatbeta_from_beta_from_alpha = two_decimals(beta2hatbeta(beta_from_alpha))\n",
    "\n",
    "hatbeta = [-2, -1, 1, 2, 4]\n",
    "beta_from_hatbeta = two_decimals(hatbeta2beta(hatbeta))\n",
    "alpha_from_beta_from_hatbeta = two_decimals(beta2alpha(beta_from_hatbeta))\n",
    "\n",
    "beta = [0.11, 0.25, 1, 2, 4]\n",
    "hatalpha = [3, 2, 1, 0, -1]\n",
    "\n",
    "x_plot = np.linspace(-3, 3, 100)\n",
    "print('STARTING FROM ALPHA')\n",
    "print('alpha =', alpha)\n",
    "print('beta =', beta_from_alpha)\n",
    "print('hatbeta =', hatbeta_from_beta_from_alpha)\n",
    "print('----')\n",
    "print('STARTING FROM HATBETA')\n",
    "print('hatbeta =', hatbeta)\n",
    "print('beta =', beta_from_hatbeta)\n",
    "print('alpha =', alpha_from_beta_from_hatbeta)\n",
    "print('----')\n",
    "print('STARTING FROM BETA')\n",
    "print('beta =', beta)\n",
    "print('hatbeta =', two_decimals(beta2hatbeta(beta)))\n",
    "print('alpha =', two_decimals(beta2alpha(beta)))"
   ]
  },
  {
   "cell_type": "markdown",
   "id": "7fc69204-f770-45da-92f1-57f0b418e45f",
   "metadata": {},
   "source": [
    "### alpha & hatbeta"
   ]
  },
  {
   "cell_type": "code",
   "execution_count": 7,
   "id": "2ea416b7-ed3c-4dee-bbc9-dc69fa2afe15",
   "metadata": {},
   "outputs": [],
   "source": [
    "def plot_alpha_hatbeta(_alpha, _hatbeta, xlim=[0, 3.5], ylim=[-2.5, 16.5], save_as=''):\n",
    "\n",
    "    fig, ax = plt.subplots(1, 1, figsize=(6,4))\n",
    "    ax = [ax, None]\n",
    "    \n",
    "    alpha_plot = np.linspace(0.25, 3, 100)\n",
    "    hatbeta_plot = np.linspace(-3, 16, 100)\n",
    "    \n",
    "    _ = ax[0].plot(alpha_plot, alpha2hatbeta(alpha_plot), color='k', label='theory')\n",
    "    _ = ax[0].plot(hatbeta2alpha(_hatbeta), _hatbeta, marker='D', linestyle='', color=CLR['hatbeta'], label=r'$\\widehat \\beta_0$')\n",
    "    _ = ax[0].plot(_alpha, alpha2hatbeta(_alpha), marker='s', linestyle='', color=CLR['alpha'], label=r'$\\alpha_0$')\n",
    "    _ = ax[0].set_xlabel(r'$\\alpha_0$')\n",
    "    _ = ax[0].set_ylabel(r'$\\widehat \\beta_0$')\n",
    "    _ = ax[0].set_xlim(xlim)\n",
    "    _ = ax[0].set_ylim(ylim)\n",
    "    _ = ax[0].legend()\n",
    "\n",
    "    if len(save_as):\n",
    "        assert save_as.endswith('pdf')\n",
    "        save_path = join('figs', save_as)\n",
    "        plt.savefig(save_path, format='pdf', bbox_inches='tight')\n",
    "        print(f'> saved as {save_path}')"
   ]
  },
  {
   "cell_type": "code",
   "execution_count": 8,
   "id": "a20446ac-8396-4515-8ed4-c8cca3cda21c",
   "metadata": {},
   "outputs": [
    {
     "name": "stdout",
     "output_type": "stream",
     "text": [
      "> saved as figs/dyt_dyisrusp.pdf\n"
     ]
    },
    {
     "data": {
      "image/png": "[encoded data removed]",
      "text/plain": [
       "<Figure size 600x400 with 1 Axes>"
      ]
     },
     "metadata": {},
     "output_type": "display_data"
    }
   ],
   "source": [
    "plot_alpha_hatbeta(alpha, hatbeta, ylim=[-2.5, 5], save_as='dyt_dyisrusp.pdf')"
   ]
  },
  {
   "cell_type": "markdown",
   "id": "57339c17-166e-459b-9829-9128cd47c357",
   "metadata": {},
   "source": [
    "### alpha & beta"
   ]
  },
  {
   "cell_type": "code",
   "execution_count": 9,
   "id": "a04c8c7e-a558-4093-a2bc-12724cc74ee2",
   "metadata": {},
   "outputs": [],
   "source": [
    "def plot_alpha_beta(_alpha, _beta, xlim=[0, 3.5], ylim=[-2.5, 16.5], save_as=''):\n",
    "\n",
    "    fig, ax = plt.subplots(1, 1, figsize=(6,4))\n",
    "    ax = [ax, None]\n",
    "    \n",
    "    alpha_plot = np.linspace(0.25, 3, 100)\n",
    "    hatbeta_plot = np.linspace(-3, 16, 100)\n",
    "    \n",
    "    _ = ax[0].plot(alpha_plot, alpha2beta(alpha_plot), color='k', label='theory')\n",
    "    _ = ax[0].plot(beta2alpha(_beta), _beta, marker='D', linestyle='', color=CLR['beta'], label=r'$\\beta_0$')\n",
    "    _ = ax[0].plot(_alpha, alpha2beta(_alpha), marker='s', linestyle='', color=CLR['alpha'], label=r'$\\alpha_0$')\n",
    "    _ = ax[0].set_xlabel(r'$\\alpha_0$')\n",
    "    _ = ax[0].set_ylabel(r'$\\beta_0$')\n",
    "    _ = ax[0].set_xlim(xlim)\n",
    "    _ = ax[0].set_ylim(ylim)\n",
    "    _ = ax[0].legend()\n",
    "\n",
    "    if len(save_as):\n",
    "        assert save_as.endswith('pdf')\n",
    "        save_path = join('figs', save_as)\n",
    "        plt.savefig(save_path, format='pdf', bbox_inches='tight')\n",
    "        print(f'> saved as {save_path}')\n",
    "\n",
    "    print(r'beta0 from alpha0:', two_decimals(alpha2beta(_alpha[::-1])))"
   ]
  },
  {
   "cell_type": "code",
   "execution_count": 10,
   "id": "a57674a4-f56a-444b-b235-004418372bee",
   "metadata": {},
   "outputs": [
    {
     "name": "stdout",
     "output_type": "stream",
     "text": [
      "> saved as figs/dyt_dyisru.pdf\n",
      "beta0 from alpha0: [0.11, 0.25, 1.0, 2.1, 4.0]\n"
     ]
    },
    {
     "data": {
      "image/png": "[encoded data removed]",
      "text/plain": [
       "<Figure size 600x400 with 1 Axes>"
      ]
     },
     "metadata": {},
     "output_type": "display_data"
    }
   ],
   "source": [
    "plot_alpha_beta(alpha, beta, ylim=[-2.5, 5], save_as='dyt_dyisru.pdf')"
   ]
  },
  {
   "cell_type": "markdown",
   "id": "2f57a4da-dc64-46ef-9889-43bce4f02309",
   "metadata": {},
   "source": [
    "### alpha & hatalpha"
   ]
  },
  {
   "cell_type": "code",
   "execution_count": 11,
   "id": "ec3203e8-3601-4cd4-ab7d-ad3b8aee2f76",
   "metadata": {},
   "outputs": [],
   "source": [
    "def plot_alpha_hatalpha(_alpha, _hatalpha, xlim=[0, 3.5], ylim=[-2.5, 16.5], save_as=''):\n",
    "\n",
    "    fig, ax = plt.subplots(1, 1, figsize=(6,4))\n",
    "    ax = [ax, None]\n",
    "    \n",
    "    alpha_plot = np.linspace(0.25, 3, 100)\n",
    "    hatbeta_plot = np.linspace(-3, 16, 100)\n",
    "    \n",
    "    _ = ax[0].plot(alpha_plot, alpha2hatalpha(alpha_plot), color='k', label='theory')\n",
    "    _ = ax[0].plot(hatalpha2alpha(_hatalpha), _hatalpha, marker='D', linestyle='', color=CLR['hatalpha'], label=r'$\\widehat \\alpha_0$')\n",
    "    _ = ax[0].plot(_alpha, alpha2hatalpha(_alpha), marker='s', linestyle='', color=CLR['alpha'], label=r'$\\alpha_0$')\n",
    "    _ = ax[0].set_xlabel(r'$\\alpha_0$')\n",
    "    _ = ax[0].set_ylabel(r'$\\widehat \\alpha_0$')\n",
    "    _ = ax[0].set_xlim(xlim)\n",
    "    _ = ax[0].set_ylim(ylim)\n",
    "    _ = ax[0].legend()\n",
    "\n",
    "    if len(save_as):\n",
    "        assert save_as.endswith('pdf')\n",
    "        save_path = join('figs', save_as)\n",
    "        plt.savefig(save_path, format='pdf', bbox_inches='tight')\n",
    "        print(f'> saved as {save_path}')\n",
    "\n",
    "    print(r'hatalpha0 from alpha0:', two_decimals(alpha2hatalpha(_alpha[::-1])))"
   ]
  },
  {
   "cell_type": "code",
   "execution_count": 12,
   "id": "45ce1c9c-c420-4676-b534-10b5f3807103",
   "metadata": {},
   "outputs": [
    {
     "name": "stdout",
     "output_type": "stream",
     "text": [
      "> saved as figs/dyt_dytsp.pdf\n",
      "hatalpha0 from alpha0: [2.95, 1.85, 0.54, -0.01, -0.43]\n"
     ]
    },
    {
     "data": {
      "image/png": "[encoded data removed]",
      "text/plain": [
       "<Figure size 600x400 with 1 Axes>"
      ]
     },
     "metadata": {},
     "output_type": "display_data"
    }
   ],
   "source": [
    "plot_alpha_hatalpha(alpha, hatalpha, ylim=[-2.5, 5], save_as='dyt_dytsp.pdf')"
   ]
  }
 ],
 "metadata": {
  "kernelspec": {
   "display_name": "Python 3 (ipykernel)",
   "language": "python",
   "name": "python3"
  },
  "language_info": {
   "codemirror_mode": {
    "name": "ipython",
    "version": 3
   },
   "file_extension": ".py",
   "mimetype": "text/x-python",
   "name": "python",
   "nbconvert_exporter": "python",
   "pygments_lexer": "ipython3",
   "version": "3.11.11"
  }
 },
 "nbformat": 4,
 "nbformat_minor": 5
}
