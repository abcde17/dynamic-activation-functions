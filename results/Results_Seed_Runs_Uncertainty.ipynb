{
 "cells": [
  {
   "cell_type": "raw",
   "id": "74ef9798-0fe7-4512-acef-1a08f812197a",
   "metadata": {},
   "source": [
    "NOTEBOOK TO OBTAIN A ROUGH GLOBAL ESTIMATE FOR THE LOSS UNCERTAINTY"
   ]
  },
  {
   "cell_type": "code",
   "execution_count": 5,
   "id": "058fd73f-02ff-489a-8a73-4d8e5f78d48c",
   "metadata": {},
   "outputs": [],
   "source": [
    "import numpy as np\n",
    "\n",
    "from data.seed_runs import SEED_RUNS"
   ]
  },
  {
   "cell_type": "code",
   "execution_count": 6,
   "id": "b64637de-68d3-4432-b872-f9debc11ae34",
   "metadata": {},
   "outputs": [
    {
     "data": {
      "text/plain": [
       "{'exp12B-125M-50k-dytx-i1p0x1p0-s1': 3.335,\n",
       " 'exp12B-125M-50k-dytx-i1p0x1p0-s2': 3.3119,\n",
       " 'exp12B-125M-50k-dytx-i1p0x1p0-s3': 3.3338,\n",
       " 'exp12C-125M-50k-dyisruspx-i1p0x1p0-s1': 3.3169,\n",
       " 'exp12C-125M-50k-dyisruspx-i1p0x1p0-s2': 3.309,\n",
       " 'exp12C-125M-50k-dyisruspx-i1p0x1p0-s3': 3.3419,\n",
       " 'exp15B-125M-200k-dytx-i1p0x1p0-s1': 3.1341,\n",
       " 'exp15B-125M-200k-dytx-i1p0x1p0-s2': 3.1723,\n",
       " 'exp15B-125M-200k-dytx-i1p0x1p0-s3': 3.1839,\n",
       " 'exp15C-125M-200k-dyisruspx-i1p0x1p0-s1': 3.1568,\n",
       " 'exp15C-125M-200k-dyisruspx-i1p0x1p0-s2': 3.1086,\n",
       " 'exp15C-125M-200k-dyisruspx-i1p0x1p0-s3': 3.1422,\n",
       " 'exp32B-760M-50k-dytx-i1p0x1p0-s1': 2.9798,\n",
       " 'exp32B-760M-50k-dytx-i1p0x1p0-s2': 2.9362,\n",
       " 'exp32B-760M-50k-dytx-i1p0x1p0-s3': 2.9831,\n",
       " 'exp32C-760M-50k-dyisruspx-i1p0x1p0-s1': 2.9788,\n",
       " 'exp32C-760M-50k-dyisruspx-i1p0x1p0-s3': 2.9483}"
      ]
     },
     "execution_count": 6,
     "metadata": {},
     "output_type": "execute_result"
    }
   ],
   "source": [
    "SEED_RUNS"
   ]
  },
  {
   "cell_type": "code",
   "execution_count": 13,
   "id": "b01a6cc1-72b5-4a04-82ea-3c00fb950ed7",
   "metadata": {},
   "outputs": [
    {
     "data": {
      "text/plain": [
       "['exp12B-125M-50k-dytx-i1p0x1p0',\n",
       " 'exp12C-125M-50k-dyisruspx-i1p0x1p0',\n",
       " 'exp15B-125M-200k-dytx-i1p0x1p0',\n",
       " 'exp15C-125M-200k-dyisruspx-i1p0x1p0',\n",
       " 'exp32B-760M-50k-dytx-i1p0x1p0',\n",
       " 'exp32C-760M-50k-dyisruspx-i1p0x1p0']"
      ]
     },
     "execution_count": 13,
     "metadata": {},
     "output_type": "execute_result"
    }
   ],
   "source": [
    "runs = sorted(list(set([k.split('-s')[0] for k in SEED_RUNS])))\n",
    "runs"
   ]
  },
  {
   "cell_type": "code",
   "execution_count": 14,
   "id": "20e75786-cd3e-476b-b319-77f47e1505a0",
   "metadata": {},
   "outputs": [
    {
     "data": {
      "text/plain": [
       "({'exp12B-125M-50k-dytx-i1p0x1p0': 3.3269,\n",
       "  'exp12C-125M-50k-dyisruspx-i1p0x1p0': 3.3226,\n",
       "  'exp15B-125M-200k-dytx-i1p0x1p0': 3.1634333333333333,\n",
       "  'exp15C-125M-200k-dyisruspx-i1p0x1p0': 3.1358666666666664,\n",
       "  'exp32B-760M-50k-dytx-i1p0x1p0': 2.966366666666667,\n",
       "  'exp32C-760M-50k-dyisruspx-i1p0x1p0': 2.96355},\n",
       " {'exp12B-125M-50k-dytx-i1p0x1p0': 0.010617909398746987,\n",
       "  'exp12C-125M-50k-dyisruspx-i1p0x1p0': 0.014023076219812245,\n",
       "  'exp15B-125M-200k-dytx-i1p0x1p0': 0.021275546735369355,\n",
       "  'exp15C-125M-200k-dyisruspx-i1p0x1p0': 0.0201807388918796,\n",
       "  'exp32B-760M-50k-dytx-i1p0x1p0': 0.02137355583165536,\n",
       "  'exp32C-760M-50k-dyisruspx-i1p0x1p0': 0.015249999999999986})"
      ]
     },
     "execution_count": 14,
     "metadata": {},
     "output_type": "execute_result"
    }
   ],
   "source": [
    "mean, std = {}, {}\n",
    "for run in runs:\n",
    "    values = [v for k, v in SEED_RUNS.items() if run in k]\n",
    "    mean[run] = float(np.mean(values))\n",
    "    std[run] = float(np.std(values))\n",
    "mean, std"
   ]
  }
 ],
 "metadata": {
  "kernelspec": {
   "display_name": "Python 3 (ipykernel)",
   "language": "python",
   "name": "python3"
  },
  "language_info": {
   "codemirror_mode": {
    "name": "ipython",
    "version": 3
   },
   "file_extension": ".py",
   "mimetype": "text/x-python",
   "name": "python",
   "nbconvert_exporter": "python",
   "pygments_lexer": "ipython3",
   "version": "3.11.11"
  }
 },
 "nbformat": 4,
 "nbformat_minor": 5
}
