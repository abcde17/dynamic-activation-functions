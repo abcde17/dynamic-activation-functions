{
 "cells": [
  {
   "cell_type": "code",
   "execution_count": 1,
   "id": "65d90917-ee6e-4c70-bb40-af328f57ec6e",
   "metadata": {},
   "outputs": [],
   "source": [
    "import numpy as np\n",
    "import matplotlib.pyplot as plt\n",
    "from scipy.optimize import curve_fit\n",
    "import scienceplots\n",
    "plt.style.use('science')\n",
    "\n",
    "# FONTS\n",
    "import sys\n",
    "from os.path import abspath\n",
    "source_path = abspath('..')\n",
    "if not source_path in sys.path:\n",
    "    sys.path.append(source_path)\n",
    "    from font import SETTINGS\n",
    "    for key in SETTINGS:\n",
    "        plt.rc(key, **SETTINGS[key])\n",
    "\n",
    "# SEED \n",
    "np.random.seed(1)"
   ]
  },
  {
   "cell_type": "markdown",
   "id": "77598967-cd14-498a-b7a4-cf4335261010",
   "metadata": {},
   "source": [
    "# PREPARATION"
   ]
  },
  {
   "cell_type": "code",
   "execution_count": 2,
   "id": "19f34224-6b1f-4235-8dea-a6d4a3ce148d",
   "metadata": {},
   "outputs": [
    {
     "data": {
      "image/png": "[encoded data removed]",
      "text/html": [
       "<div style=\"vertical-align: middle;\"><strong>Spectral</strong> </div><div class=\"cmap\"><img alt=\"Spectral colormap\" title=\"Spectral\" style=\"border: 1px solid #555;\" src=\"data:image/png;base64,iVBORw0KGgoAAAANSUhEUgAAAgAAAABACAYAAABsv8+/AAAAF3RFWHRUaXRsZQBTcGVjdHJhbCBjb2xvcm1hcI/oV9sAAAAddEVYdERlc2NyaXB0aW9uAFNwZWN0cmFsIGNvbG9ybWFwppaw8gAAADF0RVh0QXV0aG9yAE1hdHBsb3RsaWIgdjMuMTAuMSwgaHR0cHM6Ly9tYXRwbG90bGliLm9yZxYcXggAAAAzdEVYdFNvZnR3YXJlAE1hdHBsb3RsaWIgdjMuMTAuMSwgaHR0cHM6Ly9tYXRwbG90bGliLm9yZ7M4TfwAAAILSURBVHic7dZBbqMwAIZRG242B52bEo8iDFLcWqAks/rfW9S1MRA3XXz1b/3TSillWZ4/n2Pdx3WYH9fXfb4O86v714vnzebr7PPMntfHes7by7yO89p+ve/HvmXYVy+uT95z93Mdzyn9fKX/XeowP67X8wu52H+uL5PnzObLZ8899o9f1O31T+//zvp5vnoxfmvf/35f2c/XyqOP+/9haxfzY38b53f3ta++9/nb07YP5XGOdVivL9e3Yf7x/jJe/+w943mO+e31x5v3vfu+H+v9HFufP+rruA3zu9ffva//Pd59buvnWPqBx7Fuk/Vxf/9i5tev7p+s371+jPtxAIAkAgAAAgkAAAgkAAAgkAAAgEACAAACCQAACCQAACCQAACAQAIAAAIJAAAIJAAAIJAAAIBAAgAAAgkAAAgkAAAgkAAAgEACAAACCQAACCQAACCQAACAQAIAAAIJAAAIJAAAIJAAAIBAAgAAAgkAAAgkAAAgkAAAgEACAAACCQAACCQAACCQAACAQAIAAAIJAAAIJAAAIJAAAIBAAgAAAgkAAAgkAAAgkAAAgEACAAACCQAACCQAACCQAACAQAIAAAIJAAAIJAAAIJAAAIBAAgAAAgkAAAgkAAAgkAAAgEACAAACCQAACCQAACCQAACAQAIAAAIJAAAIJAAAIJAAAIBAAgAAAgkAAAj0D32cEt0CFYghAAAAAElFTkSuQmCC\"></div><div style=\"vertical-align: middle; max-width: 514px; display: flex; justify-content: space-between;\"><div style=\"float: left;\"><div title=\"#9e0142ff\" style=\"display: inline-block; width: 1em; height: 1em; margin: 0; vertical-align: middle; border: 1px solid #555; background-color: #9e0142ff;\"></div> under</div><div style=\"margin: 0 auto; display: inline-block;\">bad <div title=\"#00000000\" style=\"display: inline-block; width: 1em; height: 1em; margin: 0; vertical-align: middle; border: 1px solid #555; background-color: #00000000;\"></div></div><div style=\"float: right;\">over <div title=\"#5e4fa2ff\" style=\"display: inline-block; width: 1em; height: 1em; margin: 0; vertical-align: middle; border: 1px solid #555; background-color: #5e4fa2ff;\"></div></div></div>"
      ],
      "text/plain": [
       "<matplotlib.colors.LinearSegmentedColormap at 0x115080550>"
      ]
     },
     "execution_count": 2,
     "metadata": {},
     "output_type": "execute_result"
    }
   ],
   "source": [
    "_cmap = plt.get_cmap('Spectral')\n",
    "_cmap"
   ]
  },
  {
   "cell_type": "code",
   "execution_count": 3,
   "id": "077a10df-495c-4bb6-ba5c-649233bda518",
   "metadata": {},
   "outputs": [
    {
     "data": {
      "text/plain": [
       "10"
      ]
     },
     "execution_count": 3,
     "metadata": {},
     "output_type": "execute_result"
    }
   ],
   "source": [
    "cmap = _cmap(np.linspace(1, 0, 10)) # start with blue, end with red\n",
    "len(cmap)"
   ]
  },
  {
   "cell_type": "code",
   "execution_count": 4,
   "id": "17c17035-a9ee-42ee-94da-410336043634",
   "metadata": {},
   "outputs": [
    {
     "data": {
      "text/plain": [
       "['#0C5DA5', '#00B945', '#FF9500', '#FF2C00', '#845B97', '#474747', '#9e9e9e']"
      ]
     },
     "execution_count": 4,
     "metadata": {},
     "output_type": "execute_result"
    }
   ],
   "source": [
    "COLOR = plt.rcParams['axes.prop_cycle']\n",
    "COLOR = [v for elem in list(COLOR) for _, v in elem.items()]\n",
    "COLOR"
   ]
  },
  {
   "cell_type": "markdown",
   "id": "c7c495aa-cbec-4839-927b-90b3a9ac1d0c",
   "metadata": {},
   "source": [
    "# FUNCTIONS"
   ]
  },
  {
   "cell_type": "code",
   "execution_count": 5,
   "id": "6c04b4c0-85fd-4267-8701-2b15b29de575",
   "metadata": {},
   "outputs": [],
   "source": [
    "DEBUG = 0"
   ]
  },
  {
   "cell_type": "code",
   "execution_count": 6,
   "id": "f2cca0d6-863d-4ade-ab61-1adf7e34e229",
   "metadata": {},
   "outputs": [],
   "source": [
    "def sample_x(mu: float, sigma: float, C: int):\n",
    "    return np.sort(mu + sigma * np.random.randn(C))\n",
    "    # return mu + sigma * 2*(np.random.random(C) - 0.5)\n",
    "\n",
    "def ln(_x):\n",
    "    _mu = np.mean(_x)\n",
    "    _std = np.std(_x)\n",
    "    if DEBUG:\n",
    "        print(f\"mu = {_mu:.2f}, std = {_std:.2f}\")\n",
    "    _y = (_x - _mu)/_std\n",
    "    return _y\n",
    "\n",
    "def dyt(_x, Fshift: float, alpha: float):\n",
    "    argument = [np.float64(alpha) * elem for elem in _x]\n",
    "    result = np.sqrt(Fshift) * np.tanh(argument)\n",
    "    return result\n",
    "\n",
    "def dyisru(_x, Fshift: float, beta: float, mu=None):\n",
    "    mu_x = np.mean(_x) if mu is None else mu\n",
    "    x_centralized = [elem - mu_x for elem in _x]\n",
    "    nominator = np.array([elem**2 for elem in x_centralized])\n",
    "    denominator = np.array([np.float64(beta)  + elem**2 for elem in x_centralized])\n",
    "    result = np.sign(_x) * np.sqrt(Fshift) * np.sqrt(nominator / denominator)\n",
    "    return result"
   ]
  },
  {
   "cell_type": "markdown",
   "id": "81cf4cf0-f4fb-4933-af44-56c731071abb",
   "metadata": {},
   "source": [
    "# PLOTS"
   ]
  },
  {
   "cell_type": "code",
   "execution_count": 7,
   "id": "89e9ee0b-eba0-482d-a560-c3a4f306526f",
   "metadata": {},
   "outputs": [],
   "source": [
    "ALPHA = [0.1, 0.05]\n",
    "BETA = [100, 500]\n",
    "COLOR_PLOTS = {'dyt': 'k', 'dyisru': 'k'}\n",
    "COLOR_PLOTS_ALTERNATIVE = {'dyt': COLOR[0], 'dyisru': COLOR[1]}\n",
    "LINESTYLE = {'dyt': '-', 'dyisru': '-'}\n",
    "LINESTYLE_ALTERNATIVE = {'dyt': '--', 'dyisru': '--'}\n",
    "MARKERSTYLE = {'dyt': 'D', 'dyisru': 's'}\n",
    "CHANNELS = 50\n",
    "\n",
    "XLIM = 60\n",
    "x_values = [np.float64(elem) for elem in np.arange(-XLIM, XLIM, 1)]"
   ]
  },
  {
   "cell_type": "code",
   "execution_count": 8,
   "id": "4c315e8d-78c1-430d-8ec6-ea8559a3fd93",
   "metadata": {},
   "outputs": [],
   "source": [
    "def adjust_lightness(color, amount=0.5):\n",
    "    import matplotlib.colors as mc\n",
    "    import colorsys\n",
    "    try:\n",
    "        c = mc.cnames[color]\n",
    "    except:\n",
    "        c = color\n",
    "    c = colorsys.rgb_to_hls(*mc.to_rgb(c))\n",
    "    return colorsys.hls_to_rgb(c[0], max(0, min(1, amount * c[1])), c[2])"
   ]
  },
  {
   "cell_type": "code",
   "execution_count": 9,
   "id": "2b674df7-5a22-4707-8af6-5991de27daa6",
   "metadata": {},
   "outputs": [
    {
     "name": "stdout",
     "output_type": "stream",
     "text": [
      "NOTE: THIS IS FOR MU=0!\n"
     ]
    },
    {
     "data": {
      "image/png": "[encoded data removed]",
      "text/plain": [
       "<Figure size 600x400 with 1 Axes>"
      ]
     },
     "metadata": {},
     "output_type": "display_data"
    }
   ],
   "source": [
    "fig, ax = plt.subplots(1,1,figsize=(6,4))\n",
    "ax = [ax, None]\n",
    "\n",
    "# dyt\n",
    "for i, alpha in enumerate(ALPHA):\n",
    "    _ = ax[0].plot(\n",
    "        x_values, \n",
    "        dyt(x_values, Fshift=CHANNELS-1, alpha=alpha), \n",
    "        linestyle=LINESTYLE['dyt'] if i == 0 else LINESTYLE_ALTERNATIVE['dyt'], \n",
    "        marker='', \n",
    "        label=fr'DyT ($\\alpha = {alpha}$)', \n",
    "        color=adjust_lightness(COLOR_PLOTS_ALTERNATIVE['dyt'], amount=0.9),\n",
    "    )\n",
    "\n",
    "# dyisru\n",
    "for i, beta in enumerate(BETA):\n",
    "    _ = ax[0].plot(\n",
    "        x_values, \n",
    "        dyisru(x_values, Fshift=CHANNELS-1, beta=beta), \n",
    "        linestyle=LINESTYLE['dyisru'] if i == 0 else LINESTYLE_ALTERNATIVE['dyisru'],\n",
    "        marker='', \n",
    "        label=fr'DyISRU ($\\beta = {beta}$)', \n",
    "        color=adjust_lightness(COLOR_PLOTS_ALTERNATIVE['dyisru'], amount=1.1),\n",
    "    )\n",
    "    \n",
    "# horizontal lines\n",
    "_ = ax[0].plot(\n",
    "    x_values, \n",
    "    [np.sqrt(CHANNELS-1)]*len(x_values),\n",
    "    linestyle=':',\n",
    "    color='k',\n",
    ")\n",
    "_ = ax[0].plot(\n",
    "    x_values, \n",
    "    [0]*len(x_values),\n",
    "    linestyle=':',\n",
    "    color='k',\n",
    ")\n",
    "_ = ax[0].plot(\n",
    "    x_values, \n",
    "    [-np.sqrt(CHANNELS-1)]*len(x_values),\n",
    "    linestyle=':',\n",
    "    color='k',\n",
    ")\n",
    "\n",
    "_ = ax[0].set_xlabel('x')\n",
    "_ = ax[0].set_ylabel('y')\n",
    "_ = ax[0].legend(loc='upper left', bbox_to_anchor=(0,0.97))\n",
    "\n",
    "print(\"NOTE: THIS IS FOR MU=0!\")\n",
    "\n",
    "plt.savefig('figs/plots.pdf', format='pdf', bbox_inches='tight')"
   ]
  },
  {
   "cell_type": "markdown",
   "id": "c1003a42-9e52-432c-892d-4e898857ccdf",
   "metadata": {},
   "source": [
    "# SIMULATION"
   ]
  },
  {
   "cell_type": "code",
   "execution_count": 10,
   "id": "37cf2654-69c8-4474-98f8-33e8660901e3",
   "metadata": {},
   "outputs": [
    {
     "data": {
      "text/plain": [
       "[array([0.36862745, 0.30980392, 0.63529412, 1.        ]),\n",
       " array([0.21607074, 0.55563245, 0.73194925, 1.        ]),\n",
       " array([0.45305652, 0.78154556, 0.64628989, 1.        ]),\n",
       " array([0.74771242, 0.89803922, 0.62745098, 1.        ]),\n",
       " array([0.94425221, 0.97770088, 0.66205306, 1.        ]),\n",
       " array([0.99777009, 0.93087274, 0.63306421, 1.        ]),\n",
       " array([0.99346405, 0.74771242, 0.43529412, 1.        ]),\n",
       " array([0.96378316, 0.47743176, 0.28581315, 1.        ]),\n",
       " array([0.84721261, 0.26120723, 0.30519031, 1.        ]),\n",
       " array([0.61960784, 0.00392157, 0.25882353, 1.        ])]"
      ]
     },
     "execution_count": 10,
     "metadata": {},
     "output_type": "execute_result"
    }
   ],
   "source": [
    "CLR = [cmap[i] for i in range(len(cmap))]\n",
    "CLR"
   ]
  },
  {
   "cell_type": "code",
   "execution_count": 11,
   "id": "90638cc7-e72a-42f9-b55c-7cabe8f00081",
   "metadata": {},
   "outputs": [],
   "source": [
    "MU = [0]\n",
    "SIGMA = [2]\n",
    "C = [100] * len(MU) "
   ]
  },
  {
   "cell_type": "code",
   "execution_count": 12,
   "id": "a121b7ae-c361-403e-b1c7-1477feb4b767",
   "metadata": {},
   "outputs": [],
   "source": [
    "x = [sample_x(mu=_mu, sigma=_sigma, C=_C) for _mu, _sigma, _C in zip(MU, SIGMA, C)]\n",
    "y_ln = [ln(elem) for elem in x]"
   ]
  },
  {
   "cell_type": "code",
   "execution_count": 13,
   "id": "07c432cf-d66a-4abc-b4fc-dc321858c6ac",
   "metadata": {},
   "outputs": [],
   "source": [
    "def plot(x_input, y_ln_input, nr_steps=0, plot_functions: bool = False, plot_symmetric: bool = False, legend_steps: bool = True, savefig: bool = False, alpha=None, beta=None):\n",
    "\n",
    "    x = x_input.copy()\n",
    "    y_ln = y_ln_input.copy()\n",
    "    \n",
    "    for i in range(nr_steps):\n",
    "        x.append(x[0].copy())\n",
    "        x[i+1][-1] += 5*(i+1)\n",
    "        y_ln.append(ln(x[i+1]))\n",
    "\n",
    "    outliers = {'i': [], 'x': [], 'y': []}\n",
    "\n",
    "    fig, ax = plt.subplots(1,1,figsize=(6,4))\n",
    "    ax = [ax, None]\n",
    "\n",
    "    # functions\n",
    "    if plot_functions:\n",
    "        if alpha is None:\n",
    "            alpha = 0.1\n",
    "        _ = ax[0].plot(\n",
    "            x_values, \n",
    "            dyt(x_values, Fshift=C[0]-1, alpha=alpha), \n",
    "            linestyle=LINESTYLE['dyt'], \n",
    "            marker='', \n",
    "            label=fr'DyT ($\\alpha = {alpha:.3f}$)', \n",
    "            color=COLOR_PLOTS['dyt'],\n",
    "        )\n",
    "        if beta is None:\n",
    "            beta = 120\n",
    "        _ = ax[0].plot(\n",
    "            x_values, \n",
    "            dyisru(x_values, Fshift=C[0]-1, beta=beta, mu=0), \n",
    "            linestyle=LINESTYLE['dyisru'], \n",
    "            marker='', \n",
    "            label=fr'DyISRU ($\\beta = {beta:.1f}$)',\n",
    "            color=COLOR_PLOTS['dyisru'],\n",
    "        )\n",
    "        # horizontal lines\n",
    "        _ = ax[0].plot(\n",
    "            x_values, \n",
    "            [np.sqrt(C[0]-1)]*len(x_values),\n",
    "            linestyle=':',\n",
    "            color='k',\n",
    "        )\n",
    "        _ = ax[0].plot(\n",
    "            x_values, \n",
    "            [-np.sqrt(C[0]-1)]*len(x_values),\n",
    "            linestyle=':',\n",
    "            color='k',\n",
    "        )\n",
    "\n",
    "    # data\n",
    "    for i, (_x, _y_ln) in enumerate(zip(x, y_ln)):\n",
    "        if i == len(y_ln) - 1:\n",
    "           print(f\"LAST POINT: i = {i}, y={_y_ln[-1]}\")\n",
    "        _ = ax[0].plot(\n",
    "            _x[:-1], \n",
    "            _y_ln[:-1], \n",
    "            linestyle='', \n",
    "            marker='o', \n",
    "            markerfacecolor='w', \n",
    "            color=CLR[i % len(CLR)] if plot_symmetric is False else 'gray',\n",
    "        )\n",
    "        _ = ax[0].plot(\n",
    "            _x[-1:], \n",
    "            _y_ln[-1:], \n",
    "            linestyle='', \n",
    "            marker='o', \n",
    "            markerfacecolor=CLR[i % len(CLR)] if i > 0 else 'w', \n",
    "            label=f'S = {i}' if legend_steps else None, \n",
    "            color=CLR[i % len(CLR)],\n",
    "        )\n",
    "        if plot_symmetric:\n",
    "            _ = ax[0].plot(\n",
    "                -_x[:-1], \n",
    "                -_y_ln[:-1], \n",
    "                linestyle='', \n",
    "                marker='o', \n",
    "                markerfacecolor='w', \n",
    "                color=CLR[i % len(CLR)] if plot_symmetric is False else 'gray',\n",
    "            )\n",
    "            _ = ax[0].plot(\n",
    "                -_x[-1:], \n",
    "                -_y_ln[-1:], \n",
    "                linestyle='', \n",
    "                marker='o', \n",
    "                markerfacecolor=CLR[i % len(CLR)] if i > 0 else 'w', \n",
    "                label=f'S = {i}' if legend_steps else None, \n",
    "                color=CLR[i % len(CLR)],\n",
    "            )\n",
    "            \n",
    "        if i > 0:\n",
    "            outliers['i'].append(i)\n",
    "            outliers['x'].append(float(_x[-1]))\n",
    "            outliers['y'].append(float(_y_ln[-1]))\n",
    "\n",
    "    _ = ax[0].legend(loc='upper left', bbox_to_anchor=(0,0.97))\n",
    "    _ = ax[0].set_xlabel('x')\n",
    "    _ = ax[0].set_ylabel('y')\n",
    "    _ = ax[0].set_xlim(-55, 55)\n",
    "    _ = ax[0].set_ylim(-11, 11)\n",
    "    \n",
    "    if savefig:\n",
    "        file_path = f'figs/simulation_{nr_steps}_fits.pdf' if plot_functions else f'figs/simulation_{nr_steps}.pdf'\n",
    "        plt.savefig(file_path, format='pdf', bbox_inches='tight')\n",
    "        \n",
    "    return outliers"
   ]
  },
  {
   "cell_type": "code",
   "execution_count": 14,
   "id": "df9d5a77-0402-47e6-a953-19a18a39edce",
   "metadata": {},
   "outputs": [
    {
     "name": "stdout",
     "output_type": "stream",
     "text": [
      "LAST POINT: i = 0, y=2.40069777656419\n"
     ]
    },
    {
     "data": {
      "image/png": "[encoded data removed]",
      "text/plain": [
       "<Figure size 600x400 with 1 Axes>"
      ]
     },
     "metadata": {},
     "output_type": "display_data"
    }
   ],
   "source": [
    "_ = plot(x, y_ln, nr_steps=0, savefig=True)"
   ]
  },
  {
   "cell_type": "code",
   "execution_count": 15,
   "id": "20c70c70-a01b-46e0-a610-d9f0cabf8be0",
   "metadata": {},
   "outputs": [
    {
     "name": "stdout",
     "output_type": "stream",
     "text": [
      "LAST POINT: i = 1, y=4.715458692519567\n"
     ]
    },
    {
     "data": {
      "image/png": "[encoded data removed]",
      "text/plain": [
       "<Figure size 600x400 with 1 Axes>"
      ]
     },
     "metadata": {},
     "output_type": "display_data"
    }
   ],
   "source": [
    "_ = plot(x, y_ln, nr_steps=1, savefig=True)"
   ]
  },
  {
   "cell_type": "code",
   "execution_count": 16,
   "id": "ec4145b5-c9ef-45db-8285-aff7a93f50e4",
   "metadata": {},
   "outputs": [
    {
     "name": "stdout",
     "output_type": "stream",
     "text": [
      "LAST POINT: i = 2, y=6.344581148008157\n"
     ]
    },
    {
     "data": {
      "image/png": "[encoded data removed]",
      "text/plain": [
       "<Figure size 600x400 with 1 Axes>"
      ]
     },
     "metadata": {},
     "output_type": "display_data"
    }
   ],
   "source": [
    "_ = plot(x, y_ln, nr_steps=2, savefig=True)"
   ]
  },
  {
   "cell_type": "raw",
   "id": "967af982-6c4c-4fe0-affd-cc9047a523c8",
   "metadata": {},
   "source": [
    "_ = plot(nr_steps=3, savefig=True)"
   ]
  },
  {
   "cell_type": "raw",
   "id": "ae8ed76c-8b5d-4187-bb9b-75f132a20cde",
   "metadata": {},
   "source": [
    "_ = plot(nr_steps=4, savefig=True)"
   ]
  },
  {
   "cell_type": "code",
   "execution_count": 17,
   "id": "d89da412-155e-4a8c-95e7-45af5f7735b0",
   "metadata": {},
   "outputs": [
    {
     "name": "stdout",
     "output_type": "stream",
     "text": [
      "LAST POINT: i = 9, y=9.390432522317097\n"
     ]
    },
    {
     "data": {
      "image/png": "[encoded data removed]",
      "text/plain": [
       "<Figure size 600x400 with 1 Axes>"
      ]
     },
     "metadata": {},
     "output_type": "display_data"
    }
   ],
   "source": [
    "outliers = plot(x, y_ln, nr_steps=9, savefig=True, plot_functions=False)"
   ]
  },
  {
   "cell_type": "markdown",
   "id": "429e3617-5e3b-4089-b962-b4e4b6c3f246",
   "metadata": {},
   "source": [
    "# FIT"
   ]
  },
  {
   "cell_type": "markdown",
   "id": "086d3164-dc5c-46e2-b197-ee875d231f36",
   "metadata": {},
   "source": [
    "## Data"
   ]
  },
  {
   "cell_type": "code",
   "execution_count": 18,
   "id": "3731244e-e0bf-45a9-8d5c-53af908ffa33",
   "metadata": {},
   "outputs": [
    {
     "data": {
      "text/plain": [
       "[9.371150813066322,\n",
       " 14.371150813066322,\n",
       " 19.371150813066322,\n",
       " 24.371150813066322,\n",
       " 29.371150813066322,\n",
       " 34.37115081306632,\n",
       " 39.37115081306632,\n",
       " 44.37115081306632,\n",
       " 49.37115081306632]"
      ]
     },
     "execution_count": 18,
     "metadata": {},
     "output_type": "execute_result"
    }
   ],
   "source": [
    "outliers['x']"
   ]
  },
  {
   "cell_type": "code",
   "execution_count": 19,
   "id": "b4cbca46-c495-42a3-bbb5-99baacfe6ddf",
   "metadata": {},
   "outputs": [
    {
     "data": {
      "text/plain": [
       "[4.715458692519567,\n",
       " 6.344581148008157,\n",
       " 7.414185131923001,\n",
       " 8.1100135128233,\n",
       " 8.571591081005568,\n",
       " 8.886944326366176,\n",
       " 9.109168615543917,\n",
       " 9.270383271697186,\n",
       " 9.390432522317097]"
      ]
     },
     "execution_count": 19,
     "metadata": {},
     "output_type": "execute_result"
    }
   ],
   "source": [
    "outliers['y']"
   ]
  },
  {
   "cell_type": "code",
   "execution_count": 20,
   "id": "7d879354-780e-4a74-95fd-b1bd7dc92140",
   "metadata": {},
   "outputs": [],
   "source": [
    "# symmetric data\n",
    "data = {\n",
    "    'x': [-elem for elem in outliers['x'][::-1]] + outliers['x'],\n",
    "    'y': [-elem for elem in outliers['y'][::-1]] + outliers['y'],\n",
    "}"
   ]
  },
  {
   "cell_type": "markdown",
   "id": "f68e82cc-1f6b-4d8e-a4b8-246884653af3",
   "metadata": {},
   "source": [
    "## Fit"
   ]
  },
  {
   "cell_type": "code",
   "execution_count": 21,
   "id": "e2721e3a-29d9-4b9c-8e62-b0dac09fe0ed",
   "metadata": {},
   "outputs": [],
   "source": [
    "mean_abs_residual, residuals = {}, {}"
   ]
  },
  {
   "cell_type": "code",
   "execution_count": 22,
   "id": "332b6f5b-1b20-441d-ac7e-7988ec4fd2e3",
   "metadata": {},
   "outputs": [],
   "source": [
    "def fit_dyt(_x, alpha):\n",
    "    return dyt(_x, 100-1, alpha)\n",
    "\n",
    "def fit_dyisru(_x, beta):\n",
    "    return dyisru(_x, 100-1, beta, mu=0)\n",
    "\n",
    "def get_mean_abs_residual(_infodict):\n",
    "    residuals = _infodict['fvec']\n",
    "    abs_residuals = np.abs(residuals)\n",
    "    mean_abs_residual = np.mean(abs_residuals)\n",
    "    return mean_abs_residual, residuals"
   ]
  },
  {
   "cell_type": "code",
   "execution_count": 23,
   "id": "f05707a7-951b-4ab3-943f-c73332c3c9b7",
   "metadata": {},
   "outputs": [
    {
     "data": {
      "text/plain": [
       "np.float64(0.048610098601027746)"
      ]
     },
     "execution_count": 23,
     "metadata": {},
     "output_type": "execute_result"
    }
   ],
   "source": [
    "popt, _, infodict, mesg, ier = curve_fit(fit_dyt, data['x'], data['y'], full_output=True, p0=[0.1]) # , bounds=(0, 10))\n",
    "alpha = popt[0]\n",
    "alpha"
   ]
  },
  {
   "cell_type": "code",
   "execution_count": 24,
   "id": "c119cbd4-cefa-4bc9-9770-6296edb462cd",
   "metadata": {},
   "outputs": [
    {
     "data": {
      "text/plain": [
       "(np.float64(0.32787701391535035),\n",
       " array([-0.39698827, -0.41669035, -0.41690456, -0.38290985, -0.29575086,\n",
       "        -0.13766509,  0.09135734,  0.34015416,  0.47247264, -0.47247264,\n",
       "        -0.34015416, -0.09135734,  0.13766509,  0.29575086,  0.38290985,\n",
       "         0.41690456,  0.41669035,  0.39698827]))"
      ]
     },
     "execution_count": 24,
     "metadata": {},
     "output_type": "execute_result"
    }
   ],
   "source": [
    "mean_abs_residual['dyt'], residuals['dyt'] = get_mean_abs_residual(infodict)\n",
    "mean_abs_residual['dyt'], residuals['dyt']"
   ]
  },
  {
   "cell_type": "code",
   "execution_count": 25,
   "id": "f6f00e93-8875-4109-9014-b995fb3e157b",
   "metadata": {},
   "outputs": [
    {
     "data": {
      "text/plain": [
       "np.float64(301.0599538956246)"
      ]
     },
     "execution_count": 25,
     "metadata": {},
     "output_type": "execute_result"
    }
   ],
   "source": [
    "popt, _, infodict, mesg, ier = curve_fit(fit_dyisru, data['x'], data['y'], full_output=True, p0=[800]) # , bounds=(0, 1000))\n",
    "beta = popt[0]\n",
    "beta"
   ]
  },
  {
   "cell_type": "code",
   "execution_count": 26,
   "id": "ddccc368-f189-4d28-81e5-cfdf5fbea685",
   "metadata": {},
   "outputs": [
    {
     "data": {
      "text/plain": [
       "(np.float64(0.004814208472057737),\n",
       " array([ 0.00338782,  0.00381666,  0.00426825,  0.00467986,  0.00489262,\n",
       "         0.00452908,  0.00274057, -0.00218718, -0.01282583,  0.01282583,\n",
       "         0.00218718, -0.00274057, -0.00452908, -0.00489262, -0.00467986,\n",
       "        -0.00426825, -0.00381666, -0.00338782]))"
      ]
     },
     "execution_count": 26,
     "metadata": {},
     "output_type": "execute_result"
    }
   ],
   "source": [
    "mean_abs_residual['dyisru'], residuals['dyisru'] = get_mean_abs_residual(infodict)\n",
    "mean_abs_residual['dyisru'], residuals['dyisru']"
   ]
  },
  {
   "cell_type": "code",
   "execution_count": 27,
   "id": "5f04faa1-39f4-4a51-ae78-9fa9b16d96a0",
   "metadata": {},
   "outputs": [
    {
     "name": "stdout",
     "output_type": "stream",
     "text": [
      "LAST POINT: i = 9, y=9.390432522317097\n"
     ]
    },
    {
     "data": {
      "image/png": "[encoded data removed]",
      "text/plain": [
       "<Figure size 600x400 with 1 Axes>"
      ]
     },
     "metadata": {},
     "output_type": "display_data"
    }
   ],
   "source": [
    "_ = plot(x, y_ln, nr_steps=9, savefig=True, legend_steps=False, plot_functions=True, plot_symmetric=True, alpha=alpha, beta=beta)"
   ]
  },
  {
   "cell_type": "markdown",
   "id": "a6a22ff5-5e17-41d7-a537-80e4c8d7c6b9",
   "metadata": {},
   "source": [
    "## Residuals"
   ]
  },
  {
   "cell_type": "code",
   "execution_count": 28,
   "id": "a88fa59a-c142-40da-bff5-166c9466b4db",
   "metadata": {},
   "outputs": [],
   "source": [
    "def plot_residuals(_data, _mean_abs_residual, _residuals, savefig: bool = False):\n",
    "    fig, ax = plt.subplots(1,1,figsize=(6,2))\n",
    "    ax = [ax, None]\n",
    "\n",
    "    start_index = int(len(_data['x'])/2)\n",
    "    end_index = len(_data['x'])\n",
    "\n",
    "    _ = ax[0].plot(\n",
    "        [-55, 55], \n",
    "        [0]*2,\n",
    "        linestyle=':',\n",
    "        color='k',\n",
    "    )\n",
    "    for dyx in ['dyt', 'dyisru']:\n",
    "        if dyx == 'dyt':\n",
    "            label = fr'DyT ($\\alpha = {alpha:.3f}$)'\n",
    "        elif dyx == 'dyisru':\n",
    "            label = fr'DyISRU ($\\beta = {beta:.1f}$)'\n",
    "            \n",
    "        _ = ax[0].plot(\n",
    "                _data['x'][start_index:],\n",
    "                _residuals[dyx][start_index:],\n",
    "                linestyle=LINESTYLE[dyx], \n",
    "                marker=MARKERSTYLE[dyx],\n",
    "                label=label,\n",
    "                color=COLOR_PLOTS[dyx],\n",
    "            )\n",
    "        \n",
    "        for i in range(start_index, end_index):               \n",
    "            _ = ax[0].plot(\n",
    "                _data['x'][i],\n",
    "                _residuals[dyx][i],\n",
    "                linestyle='', \n",
    "                marker=MARKERSTYLE[dyx],\n",
    "                color=CLR[(i + 1 - start_index) % len(CLR)],\n",
    "            )\n",
    "\n",
    "    \n",
    "    _ = ax[0].legend(loc='upper left', bbox_to_anchor=(0,0.97))\n",
    "    _ = ax[0].set_xlabel('x')\n",
    "    _ = ax[0].set_ylabel('residual')\n",
    "    _ = ax[0].set_xlim(-55, 55)\n",
    "    ylim = ax[0].get_ylim()\n",
    "    ylim_new = np.max(np.abs(ylim))\n",
    "    _ = ax[0].set_ylim(-ylim_new, ylim_new)\n",
    "    \n",
    "    if savefig:\n",
    "        file_path = f'figs/simulation_residuals.pdf'\n",
    "        plt.savefig(file_path, format='pdf', bbox_inches='tight')"
   ]
  },
  {
   "cell_type": "code",
   "execution_count": 29,
   "id": "2883cfec-4d80-408f-93ce-aa5a90ce8038",
   "metadata": {},
   "outputs": [
    {
     "data": {
      "image/png": "[encoded data removed]",
      "text/plain": [
       "<Figure size 600x200 with 1 Axes>"
      ]
     },
     "metadata": {},
     "output_type": "display_data"
    }
   ],
   "source": [
    "plot_residuals(data, mean_abs_residual, residuals, savefig=True)"
   ]
  }
 ],
 "metadata": {
  "kernelspec": {
   "display_name": "Python 3 (ipykernel)",
   "language": "python",
   "name": "python3"
  },
  "language_info": {
   "codemirror_mode": {
    "name": "ipython",
    "version": 3
   },
   "file_extension": ".py",
   "mimetype": "text/x-python",
   "name": "python",
   "nbconvert_exporter": "python",
   "pygments_lexer": "ipython3",
   "version": "3.11.11"
  }
 },
 "nbformat": 4,
 "nbformat_minor": 5
}
